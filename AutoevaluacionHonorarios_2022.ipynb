{
 "cells": [
  {
   "cell_type": "code",
   "execution_count": 359,
   "metadata": {},
   "outputs": [],
   "source": [
    "\n",
    "import pandas as pd\n",
    "import numpy as np\n",
    "import re\n",
    "import xlsxwriter\n"
   ]
  },
  {
   "cell_type": "code",
   "execution_count": 360,
   "metadata": {},
   "outputs": [],
   "source": [
    "def clean_data(data):\n",
    "    data = data.iloc[7:]\n",
    "    data = data.iloc[:, 1:]\n",
    "    data = data.reset_index(drop=True)\n",
    "    data.columns = data.iloc[0]\n",
    "    data = data.iloc[1:]\n",
    "    data = data.rename(columns=lambda x: re.sub(r'\\W+', '_', x.strip().lower()))\n",
    "    return data"
   ]
  },
  {
   "cell_type": "code",
   "execution_count": 361,
   "metadata": {},
   "outputs": [],
   "source": [
    "data = pd.read_excel(r'D:\\6.-Universidad Arturo Prat - Python\\Evaluación Docente 2022\\Autoevaluación\\CE_HONORARIOS_1erSemestre.xlsx')"
   ]
  },
  {
   "cell_type": "code",
   "execution_count": 362,
   "metadata": {},
   "outputs": [],
   "source": [
    "data = clean_data(data)"
   ]
  },
  {
   "cell_type": "code",
   "execution_count": 363,
   "metadata": {},
   "outputs": [],
   "source": [
    "agrupacion_coberturas = ['proceso','semestre','sede','tipo_carrera','facultad','codigo_carrera','nombre_carrera','rut_completo','nombres','apaterno','amaterno','contrato','estado']\n",
    "agrupacion_resultados = ['proceso','semestre','sede','tipo_carrera','facultad','codigo_carrera','nombre_carrera','rut_completo','nombres','apaterno','amaterno','contrato']\n",
    "estados_sinpendiente = ['finalizado','no_iniciada']\n",
    "estados = ['finalizado','no_iniciada','pendiente']\n",
    "nuevos_nombres = {'facultad':'unidad_academica','nombres':'nombre_docente','apaterno':'apaterno_docente','amaterno':'amaterno_docente','rut_completo':'rut_docente'}\n",
    "columnas_respuesta = [col for col in data.columns if col.startswith('respuesta')]\n",
    "escala_puntuacion = {'Siempre': 3.0, 'Generalmente': 2.0, 'Pocas veces': 1.0, 'Nunca': 0.0, '--': 0.0}\n",
    "respuestas_mediador = [col for col in data.columns if col.startswith('respuesta_1_')]\n",
    "respuestas_gestion = [col for col in data.columns if col.startswith('respuesta_2_')]\n",
    "columnas_excluidas = ['titulo','grado','sexo','edad','jerarquia','tipo_jornada','inicio_aplicacion','fin_aplicacion','fecha_inicio','fecha_fin']\n",
    "agrupacion_merge = ['proceso','semestre','sede','tipo_carrera','unidad_academica','codigo_carrera','nombre_carrera','rut_docente','nombre_docente','apaterno_docente','amaterno_docente','contrato']"
   ]
  },
  {
   "cell_type": "code",
   "execution_count": 364,
   "metadata": {},
   "outputs": [],
   "source": [
    "def coberturas_autoevaluacionhonorarios(data):\n",
    "    try:\n",
    "        data_coberturas = data.groupby(agrupacion_coberturas).size().reset_index(name='count')\n",
    "        data_coberturas = data_coberturas.pivot_table(index=agrupacion_resultados, columns='estado', values='count', fill_value=0).reset_index()\n",
    "        data_coberturas = data_coberturas.rename(columns=lambda x: re.sub(r'\\W+', '_', x.strip().lower()))\n",
    "        data_coberturas = data_coberturas.rename(columns=nuevos_nombres)\n",
    "        data_coberturas['total'] = data_coberturas[estados].sum(axis=1)\n",
    "        data_coberturas['finalizado_percent'] = (data_coberturas['finalizado'] / data_coberturas['total']) * 100\n",
    "    except KeyError:\n",
    "        data_coberturas = data.groupby(agrupacion_coberturas).size().reset_index(name='count')\n",
    "        data_coberturas = data_coberturas.pivot_table(index=agrupacion_resultados, columns='estado', values='count', fill_value=0).reset_index()\n",
    "        data_coberturas = data_coberturas.rename(columns=lambda x: re.sub(r'\\W+', '_', x.strip().lower()))\n",
    "        data_coberturas = data_coberturas.rename(columns=nuevos_nombres)\n",
    "        data_coberturas['total'] = data_coberturas[estados_sinpendiente].sum(axis=1)\n",
    "        data_coberturas['finalizado_percent'] = (data_coberturas['finalizado'] / data_coberturas['total']) * 100\n",
    "    \n",
    "    return data_coberturas"
   ]
  },
  {
   "cell_type": "code",
   "execution_count": 365,
   "metadata": {},
   "outputs": [],
   "source": [
    "def resultados_autoevaluacionhonorarios(data):\n",
    "    \n",
    "    data_resultados = data[(data['estado']==\"Finalizado\")]\n",
    "    data_resultados[columnas_respuesta] = data_resultados[columnas_respuesta].replace(escala_puntuacion)\n",
    "    data_resultados = data_resultados.drop(columns=columnas_excluidas)\n",
    "    data_resultados = data_resultados.groupby(agrupacion_resultados).mean().round(2).reset_index()\n",
    "    data_resultados = data_resultados.rename(columns=nuevos_nombres)\n",
    "    \n",
    "    return data_resultados"
   ]
  },
  {
   "attachments": {},
   "cell_type": "markdown",
   "metadata": {},
   "source": [
    "# Coberturas de Autoevaluación a Honorarios"
   ]
  },
  {
   "cell_type": "code",
   "execution_count": 366,
   "metadata": {},
   "outputs": [],
   "source": [
    "ce1 = pd.read_excel(r'D:\\6.-Universidad Arturo Prat - Python\\Evaluación Docente 2022\\Autoevaluación\\CE_HONORARIOS_1erSemestre.xlsx')\n",
    "ce2 = pd.read_excel(r'D:\\6.-Universidad Arturo Prat - Python\\Evaluación Docente 2022\\Autoevaluación\\CE_Honorarios_2doSemestre.xlsx')\n",
    "ptu1 = pd.read_excel(r'D:\\6.-Universidad Arturo Prat - Python\\Evaluación Docente 2022\\Autoevaluación\\PTU_HONORARIOS_1erSemestre.xlsx')\n",
    "ptu2 = pd.read_excel(r'D:\\6.-Universidad Arturo Prat - Python\\Evaluación Docente 2022\\Autoevaluación\\PTU_HONORARIOS_2doSemestre.xlsx')\n",
    "tns1 = pd.read_excel(r'D:\\6.-Universidad Arturo Prat - Python\\Evaluación Docente 2022\\Autoevaluación\\TNS_Honorarios_1erSemestre.xlsx')\n",
    "tns2 = pd.read_excel(r'D:\\6.-Universidad Arturo Prat - Python\\Evaluación Docente 2022\\Autoevaluación\\TNS_HONORARIOS_2doSemestre.xlsx')"
   ]
  },
  {
   "cell_type": "code",
   "execution_count": 367,
   "metadata": {},
   "outputs": [],
   "source": [
    "ce1 = clean_data(ce1)\n",
    "ce2 = clean_data(ce2)\n",
    "ptu1 = clean_data(ptu1)\n",
    "ptu2 = clean_data(ptu2)\n",
    "tns1 = clean_data(tns1)\n",
    "tns2 = clean_data(tns2)\n"
   ]
  },
  {
   "cell_type": "code",
   "execution_count": 368,
   "metadata": {},
   "outputs": [],
   "source": [
    "ce1_coberturas = coberturas_autoevaluacionhonorarios(ce1)\n",
    "ce2_coberturas = coberturas_autoevaluacionhonorarios(ce2)\n",
    "ptu1_coberturas = coberturas_autoevaluacionhonorarios(ptu1)\n",
    "ptu2_coberturas = coberturas_autoevaluacionhonorarios(ptu2)\n",
    "tns1_coberturas = coberturas_autoevaluacionhonorarios(tns1)\n",
    "tns2_coberturas = coberturas_autoevaluacionhonorarios(tns2)"
   ]
  },
  {
   "cell_type": "code",
   "execution_count": null,
   "metadata": {},
   "outputs": [],
   "source": [
    "ce1_resultados = resultados_autoevaluacionhonorarios(ce1)\n",
    "ce2_resultados = resultados_autoevaluacionhonorarios(ce2)\n",
    "ptu1_resultados = resultados_autoevaluacionhonorarios(ptu1)\n",
    "ptu2_resultados = resultados_autoevaluacionhonorarios(ptu2)\n",
    "tns1_resultados = resultados_autoevaluacionhonorarios(tns1)\n",
    "tns2_resultados = resultados_autoevaluacionhonorarios(tns2)"
   ]
  },
  {
   "cell_type": "code",
   "execution_count": 370,
   "metadata": {},
   "outputs": [],
   "source": [
    "Coberturas_Honorarios_Autoevaluacion = pd.concat([ce1_coberturas,ce2_coberturas,ptu1_coberturas,ptu2_coberturas,tns1_coberturas,tns2_coberturas])"
   ]
  },
  {
   "cell_type": "code",
   "execution_count": 371,
   "metadata": {},
   "outputs": [],
   "source": [
    "Resultados_Honorarios_Autoevaluacion = pd.concat([ce1_resultados,ce2_resultados,ptu1_resultados,ptu2_resultados,tns1_resultados,tns2_resultados])"
   ]
  },
  {
   "cell_type": "code",
   "execution_count": 372,
   "metadata": {},
   "outputs": [],
   "source": [
    "autoevaluacion_honorarios_2022 = Coberturas_Honorarios_Autoevaluacion.merge(\n",
    "    right = Resultados_Honorarios_Autoevaluacion,\n",
    "    how = \"outer\",\n",
    "    on = agrupacion_merge\n",
    ")"
   ]
  },
  {
   "cell_type": "code",
   "execution_count": 373,
   "metadata": {},
   "outputs": [],
   "source": [
    "autoevaluacion_honorarios_2022[columnas_respuesta] = autoevaluacion_honorarios_2022[columnas_respuesta].fillna(0)"
   ]
  },
  {
   "cell_type": "code",
   "execution_count": 374,
   "metadata": {},
   "outputs": [],
   "source": [
    "autoevaluacion_honorarios_2022['pendiente']= autoevaluacion_honorarios_2022['pendiente'].fillna(0)"
   ]
  },
  {
   "cell_type": "code",
   "execution_count": 375,
   "metadata": {},
   "outputs": [],
   "source": [
    "autoevaluacion_honorarios_2022['mediador'] = autoevaluacion_honorarios_2022[respuestas_mediador].mean(axis=1).round(2)"
   ]
  },
  {
   "cell_type": "code",
   "execution_count": 376,
   "metadata": {},
   "outputs": [],
   "source": [
    "autoevaluacion_honorarios_2022['gestion'] = autoevaluacion_honorarios_2022[respuestas_gestion].mean(axis=1).round(2)"
   ]
  },
  {
   "cell_type": "code",
   "execution_count": 377,
   "metadata": {},
   "outputs": [
    {
     "name": "stderr",
     "output_type": "stream",
     "text": [
      "C:\\Users\\anddiazc\\AppData\\Local\\Temp\\ipykernel_11748\\2179554248.py:3: FutureWarning: save is not part of the public API, usage can give unexpected results and will be removed in a future version\n",
      "  writer.save()\n"
     ]
    }
   ],
   "source": [
    "writer = pd.ExcelWriter('Resultados/EvaluaciónDocenteAutoevaluacionHonorarios2022.xlsx', engine='xlsxwriter')\n",
    "autoevaluacion_honorarios_2022.to_excel(writer, sheet_name='AutoevaluacionHonorarios2022', index=True)\n",
    "writer.save()"
   ]
  }
 ],
 "metadata": {
  "kernelspec": {
   "display_name": "default",
   "language": "python",
   "name": "python3"
  },
  "language_info": {
   "codemirror_mode": {
    "name": "ipython",
    "version": 3
   },
   "file_extension": ".py",
   "mimetype": "text/x-python",
   "name": "python",
   "nbconvert_exporter": "python",
   "pygments_lexer": "ipython3",
   "version": "3.9.12"
  },
  "orig_nbformat": 4
 },
 "nbformat": 4,
 "nbformat_minor": 2
}
