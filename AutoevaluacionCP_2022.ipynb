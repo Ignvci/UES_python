{
 "cells": [
  {
   "cell_type": "code",
   "execution_count": 33,
   "metadata": {},
   "outputs": [],
   "source": [
    "import pandas as pd\n",
    "import numpy as np\n",
    "import re\n",
    "import xlsxwriter"
   ]
  },
  {
   "cell_type": "code",
   "execution_count": 34,
   "metadata": {},
   "outputs": [],
   "source": [
    "def clean_data(data):\n",
    "    data = data.iloc[7:]\n",
    "    data = data.iloc[:, 1:]\n",
    "    data = data.reset_index(drop=True)\n",
    "    data.columns = data.iloc[0]\n",
    "    data = data.iloc[1:]\n",
    "    data = data.rename(columns=lambda x: re.sub(r'\\W+', '_', x.strip().lower()))\n",
    "    return data"
   ]
  },
  {
   "cell_type": "code",
   "execution_count": 35,
   "metadata": {},
   "outputs": [],
   "source": [
    "ce1 = pd.read_excel(r'D:\\6.-Universidad Arturo Prat - Python\\Evaluación Docente 2022\\Autoevaluación\\CE_PlantaContrata_1erSemestre.xlsx')\n",
    "ce2 = pd.read_excel(r'D:\\6.-Universidad Arturo Prat - Python\\Evaluación Docente 2022\\Autoevaluación\\CE_PlantaContrata_2doSemestre.xlsx')\n",
    "ptu1 = pd.read_excel(r'D:\\6.-Universidad Arturo Prat - Python\\Evaluación Docente 2022\\Autoevaluación\\PTU_PLANTACONTRATA_1erSemestre.xlsx')\n",
    "ptu2 = pd.read_excel(r'D:\\6.-Universidad Arturo Prat - Python\\Evaluación Docente 2022\\Autoevaluación\\PTU_PLANTACONTRATA_2doSemestre.xlsx')\n",
    "tns1 = pd.read_excel(r'D:\\6.-Universidad Arturo Prat - Python\\Evaluación Docente 2022\\Autoevaluación\\TNS_PLANTACONTRATA_1erSemestre.xlsx')\n",
    "tns2 = pd.read_excel(r'D:\\6.-Universidad Arturo Prat - Python\\Evaluación Docente 2022\\Autoevaluación\\TNS_PLANTACONTRATA_2doSemestre.xlsx')"
   ]
  },
  {
   "cell_type": "code",
   "execution_count": 36,
   "metadata": {},
   "outputs": [],
   "source": [
    "ce1 = clean_data(ce1)\n",
    "ce2 = clean_data(ce2)\n",
    "ptu1 = clean_data(ptu1)\n",
    "ptu2 = clean_data(ptu2)\n",
    "tns1 = clean_data(tns1)\n",
    "tns2 = clean_data(tns2)"
   ]
  },
  {
   "cell_type": "code",
   "execution_count": 37,
   "metadata": {},
   "outputs": [],
   "source": [
    "agrupacion_coberturas = ['proceso','semestre','sede','tipo_carrera','facultad','codigo_carrera','nombre_carrera','rut_completo','nombres','apaterno','amaterno','contrato','estado']\n",
    "agrupacion_resultados = ['proceso','semestre','sede','tipo_carrera','facultad','codigo_carrera','nombre_carrera','rut_completo','nombres','apaterno','amaterno','contrato']\n",
    "estados_sinpendiente = ['finalizado','no_iniciada']\n",
    "estados = ['finalizado','no_iniciada','pendiente']\n",
    "nuevos_nombres = {'facultad':'unidad_academica','nombres':'nombre_docente','apaterno':'apaterno_docente','amaterno':'amaterno_docente','rut_completo':'rut_docente'}\n",
    "escala_puntuacion = {'Siempre': 3.0, 'Generalmente': 2.0, 'Pocas veces': 1.0, 'Nunca': 0.0, '--': 0.0}\n",
    "columnas_excluidas = ['titulo','grado','sexo','edad','jerarquia','tipo_jornada','inicio_aplicacion','fin_aplicacion','fecha_inicio','fecha_fin']\n",
    "agrupacion_merge = ['proceso','semestre','sede','tipo_carrera','unidad_academica','codigo_carrera','nombre_carrera','rut_docente','nombre_docente','apaterno_docente','amaterno_docente','contrato']\n",
    "estado_finalizado = ['finalizado']"
   ]
  },
  {
   "cell_type": "code",
   "execution_count": 38,
   "metadata": {},
   "outputs": [],
   "source": [
    "def coberturas_autoevaluacion(data):\n",
    "    try:\n",
    "        data_coberturas = data.groupby(agrupacion_coberturas).size().reset_index(name='count')\n",
    "        data_coberturas = data_coberturas.pivot_table(index=agrupacion_resultados, columns='estado', values='count', fill_value=0).reset_index()\n",
    "        data_coberturas = data_coberturas.rename(columns=lambda x: re.sub(r'\\W+', '_', x.strip().lower()))\n",
    "        data_coberturas = data_coberturas.rename(columns=nuevos_nombres)\n",
    "        data_coberturas['total'] = data_coberturas[estados].sum(axis=1)\n",
    "        data_coberturas['finalizado_percent'] = (data_coberturas['finalizado'] / data_coberturas['total']) * 100\n",
    "    except KeyError:\n",
    "        try:\n",
    "            data_coberturas = data.groupby(agrupacion_coberturas).size().reset_index(name='count')\n",
    "            data_coberturas = data_coberturas.pivot_table(index=agrupacion_resultados, columns='estado', values='count', fill_value=0).reset_index()\n",
    "            data_coberturas = data_coberturas.rename(columns=lambda x: re.sub(r'\\W+', '_', x.strip().lower()))\n",
    "            data_coberturas = data_coberturas.rename(columns=nuevos_nombres)\n",
    "            data_coberturas['total'] = data_coberturas[estados_sinpendiente].sum(axis=1)\n",
    "            data_coberturas['finalizado_percent'] = (data_coberturas['finalizado'] / data_coberturas['total']) * 100\n",
    "        except:\n",
    "            data_coberturas = data.groupby(agrupacion_coberturas).size().reset_index(name='count')\n",
    "            data_coberturas = data_coberturas.pivot_table(index=agrupacion_resultados, columns='estado', values='count', fill_value=0).reset_index()\n",
    "            data_coberturas = data_coberturas.rename(columns=lambda x: re.sub(r'\\W+', '_', x.strip().lower()))\n",
    "            data_coberturas = data_coberturas.rename(columns=nuevos_nombres)\n",
    "            data_coberturas['total'] = data_coberturas[estado_finalizado].sum(axis=1)\n",
    "            data_coberturas['finalizado_percent'] = (data_coberturas['finalizado'] / data_coberturas['total']) * 100\n",
    "    \n",
    "    \n",
    "    return data_coberturas"
   ]
  },
  {
   "cell_type": "code",
   "execution_count": 39,
   "metadata": {},
   "outputs": [],
   "source": [
    "def resultados_autoevaluacion(data):\n",
    "    \n",
    "    columnas_respuesta = [col for col in data.columns if col.startswith('respuesta')]\n",
    "    data_resultados = data[(data['estado']==\"Finalizado\")]\n",
    "    data_resultados[columnas_respuesta] = data_resultados[columnas_respuesta].replace(escala_puntuacion)\n",
    "    data_resultados = data_resultados.drop(columns=columnas_excluidas)\n",
    "    data_resultados = data_resultados.groupby(agrupacion_resultados).mean().round(2).reset_index()\n",
    "    data_resultados = data_resultados.rename(columns=nuevos_nombres)\n",
    "\n",
    "    return data_resultados"
   ]
  },
  {
   "cell_type": "code",
   "execution_count": 40,
   "metadata": {},
   "outputs": [],
   "source": [
    "ce1_coberturas = coberturas_autoevaluacion(ce1)\n",
    "ce2_coberturas = coberturas_autoevaluacion(ce2)\n",
    "ptu1_coberturas = coberturas_autoevaluacion(ptu1)\n",
    "ptu2_coberturas = coberturas_autoevaluacion(ptu2)\n",
    "tns1_coberturas = coberturas_autoevaluacion(tns1)\n",
    "tns2_coberturas = coberturas_autoevaluacion(tns2)"
   ]
  },
  {
   "cell_type": "code",
   "execution_count": null,
   "metadata": {},
   "outputs": [],
   "source": [
    "ce1_resultados = resultados_autoevaluacion(ce1)\n",
    "ce2_resultados = resultados_autoevaluacion(ce2)\n",
    "ptu1_resultados = resultados_autoevaluacion(ptu1)\n",
    "ptu2_resultados = resultados_autoevaluacion(ptu2)\n",
    "tns1_resultados = resultados_autoevaluacion(tns1)\n",
    "tns2_resultados = resultados_autoevaluacion(tns2)"
   ]
  },
  {
   "cell_type": "code",
   "execution_count": 42,
   "metadata": {},
   "outputs": [],
   "source": [
    "Coberturas_Autoevaluacion = pd.concat([ce1_coberturas,ce2_coberturas,ptu1_coberturas,ptu2_coberturas,tns1_coberturas,tns2_coberturas])\n",
    "Resultados_Autoevaluacion = pd.concat([ce1_resultados,ce2_resultados,ptu1_resultados,ptu2_resultados,tns1_resultados,tns2_resultados])"
   ]
  },
  {
   "cell_type": "code",
   "execution_count": 43,
   "metadata": {},
   "outputs": [],
   "source": [
    "autoevaluacion_2022 = Coberturas_Autoevaluacion.merge(\n",
    "    right = Resultados_Autoevaluacion,\n",
    "    how = \"outer\",\n",
    "    on = agrupacion_merge\n",
    ")"
   ]
  },
  {
   "cell_type": "code",
   "execution_count": 44,
   "metadata": {},
   "outputs": [],
   "source": [
    "columnas_respuesta = [col for col in autoevaluacion_2022.columns if col.startswith('respuesta')]"
   ]
  },
  {
   "cell_type": "code",
   "execution_count": 45,
   "metadata": {},
   "outputs": [],
   "source": [
    "autoevaluacion_2022[columnas_respuesta] = autoevaluacion_2022[columnas_respuesta].fillna(0)"
   ]
  },
  {
   "cell_type": "code",
   "execution_count": 47,
   "metadata": {},
   "outputs": [],
   "source": [
    "autoevaluacion_2022['pendiente'] = autoevaluacion_2022['pendiente'].fillna(0)"
   ]
  },
  {
   "cell_type": "code",
   "execution_count": 48,
   "metadata": {},
   "outputs": [],
   "source": [
    "autoevaluacion_2022['no_iniciada'] = autoevaluacion_2022['no_iniciada'].fillna(0)"
   ]
  },
  {
   "cell_type": "code",
   "execution_count": 49,
   "metadata": {},
   "outputs": [],
   "source": [
    "columnas_respuesta = [col for col in autoevaluacion_2022.columns if col.startswith('respuesta')]\n",
    "respuestas_mediador = [col for col in autoevaluacion_2022.columns if col.startswith('respuesta_1_')]\n",
    "respuestas_indagador = [col for col in autoevaluacion_2022.columns if col.startswith('respuesta_2_')]\n",
    "respuestas_gestion = [col for col in autoevaluacion_2022.columns if col.startswith('respuesta_3_')]"
   ]
  },
  {
   "cell_type": "code",
   "execution_count": 50,
   "metadata": {},
   "outputs": [
    {
     "data": {
      "text/plain": [
       "0      2.0\n",
       "1      3.0\n",
       "2      3.0\n",
       "3      3.0\n",
       "4      3.0\n",
       "      ... \n",
       "745    0.0\n",
       "746    3.0\n",
       "747    3.0\n",
       "748    3.0\n",
       "749    3.0\n",
       "Length: 750, dtype: float64"
      ]
     },
     "execution_count": 50,
     "metadata": {},
     "output_type": "execute_result"
    }
   ],
   "source": [
    "autoevaluacion_2022[respuestas_mediador].mean(axis=1).round(2)\n",
    "autoevaluacion_2022[respuestas_indagador].mean(axis=1).round(2)\n",
    "autoevaluacion_2022[respuestas_gestion].mean(axis=1).round(2)"
   ]
  }
 ],
 "metadata": {
  "kernelspec": {
   "display_name": "default",
   "language": "python",
   "name": "python3"
  },
  "language_info": {
   "codemirror_mode": {
    "name": "ipython",
    "version": 3
   },
   "file_extension": ".py",
   "mimetype": "text/x-python",
   "name": "python",
   "nbconvert_exporter": "python",
   "pygments_lexer": "ipython3",
   "version": "3.9.12"
  },
  "orig_nbformat": 4
 },
 "nbformat": 4,
 "nbformat_minor": 2
}
