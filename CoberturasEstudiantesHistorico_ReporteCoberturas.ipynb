{
 "cells": [
  {
   "cell_type": "code",
   "execution_count": 2,
   "metadata": {},
   "outputs": [],
   "source": [
    "# Importación de librerías\n",
    "\n",
    "import pandas as pd\n",
    "import numpy as np\n",
    "import re\n",
    "import xlsxwriter"
   ]
  },
  {
   "cell_type": "code",
   "execution_count": 3,
   "metadata": {},
   "outputs": [],
   "source": [
    "ce1 = pd.read_excel(r'H:\\6.-Universidad Arturo Prat - Python\\Evaluación Docente 2022\\EstudiantesCobertura\\CE_1erSemestre.xlsx')\n",
    "ce2 = pd.read_excel(r'H:\\6.-Universidad Arturo Prat - Python\\Evaluación Docente 2022\\EstudiantesCobertura\\CE_2dorSemestre.xlsx')\n",
    "ptu1 = pd.read_excel(r'H:\\6.-Universidad Arturo Prat - Python\\Evaluación Docente 2022\\EstudiantesCobertura\\PTU_1erSemestre.xlsx')\n",
    "ptu2 = pd.read_excel(r'H:\\6.-Universidad Arturo Prat - Python\\Evaluación Docente 2022\\EstudiantesCobertura\\PTU_2doSemestre.xlsx')\n",
    "tns1 = pd.read_excel(r'H:\\6.-Universidad Arturo Prat - Python\\Evaluación Docente 2022\\EstudiantesCobertura\\TNS_1erSemestre.xlsx')\n",
    "tns2 = pd.read_excel(r'H:\\6.-Universidad Arturo Prat - Python\\Evaluación Docente 2022\\EstudiantesCobertura\\TNS_2doSemestre.xlsx')\n",
    "ce1_23 = pd.read_excel(r'H:\\6.-Universidad Arturo Prat - Python\\Evaluación Docente 2022\\EstudiantesCobertura\\[Evaluacion Docente de Estudiantes][02-06-2023].xlsx')"
   ]
  },
  {
   "cell_type": "code",
   "execution_count": 4,
   "metadata": {},
   "outputs": [],
   "source": [
    "def clean_estudiantes(data):\n",
    "    data = data.iloc[7:]\n",
    "    data = data.iloc[:, 1:]\n",
    "    data = data.reset_index(drop=True)\n",
    "    data.columns = data.iloc[0]\n",
    "    data = data.iloc[1:]\n",
    "    data = data.rename(columns=lambda x: re.sub(r'\\W+', '_', x.strip().lower()))\n",
    "    return data"
   ]
  },
  {
   "cell_type": "code",
   "execution_count": 5,
   "metadata": {},
   "outputs": [],
   "source": [
    "ce1 = clean_estudiantes(ce1)\n",
    "ce2 = clean_estudiantes(ce2)\n",
    "ptu1 = clean_estudiantes(ptu1)\n",
    "ptu2 = clean_estudiantes(ptu2)\n",
    "tns1 = clean_estudiantes(tns1)\n",
    "tns2 = clean_estudiantes(tns2)\n",
    "ce1_23 =clean_estudiantes(ce1_23)\n"
   ]
  },
  {
   "cell_type": "code",
   "execution_count": 6,
   "metadata": {},
   "outputs": [],
   "source": [
    "\n",
    "ce1_23 = ce1_23.rename(columns=lambda x: re.sub(r'^respuesta_1_1', 'consentimiento', x))\n",
    "ce1_23 = ce1_23.rename(columns=lambda x: re.sub(r'^respuesta_2_', 'respuesta_1_', x))\n",
    "ce1_23 = ce1_23.rename(columns=lambda x: re.sub(r'^respuesta_3_', 'respuesta_2_', x))"
   ]
  },
  {
   "cell_type": "code",
   "execution_count": 18,
   "metadata": {},
   "outputs": [],
   "source": [
    "CoberturaEstudiantes = pd.concat([ce1,ce2,ptu1,ptu2,tns1,tns2,ce1_23])"
   ]
  },
  {
   "cell_type": "code",
   "execution_count": 19,
   "metadata": {},
   "outputs": [],
   "source": [
    "CoberturaEstudiantes.loc[((CoberturaEstudiantes['estado'] == 'Finalizado') | (CoberturaEstudiantes['estado'] == 'Pendiente')) & (CoberturaEstudiantes['consentimiento'] == 'No Acepto participar. SALIR'), 'estado'] = 'No iniciada'"
   ]
  },
  {
   "cell_type": "code",
   "execution_count": 20,
   "metadata": {},
   "outputs": [],
   "source": [
    "agrupacion_coberturas = ['proceso','semestre','sede','tipo_carrera','unidad_academica','codigo_carrera','nombre_carrera','codigo_actividad','nombre_actividad',\n",
    "                         'paralelo','tipo_asig','rut_docente','nombre_docente','apaterno_docente','amaterno_docente','estado']\n",
    "\n",
    "agrupacion_resultados = ['proceso','semestre','sede','tipo_carrera','unidad_academica','codigo_carrera','nombre_carrera','codigo_actividad','nombre_actividad',\n",
    "                         'paralelo','tipo_asig','rut_docente','nombre_docente','apaterno_docente','amaterno_docente']\n",
    "\n",
    "estados = ['finalizado','no_iniciada','pendiente']"
   ]
  },
  {
   "cell_type": "code",
   "execution_count": 21,
   "metadata": {},
   "outputs": [],
   "source": [
    "ReporteCoberturas = CoberturaEstudiantes.groupby(agrupacion_coberturas).size().reset_index(name='count')"
   ]
  },
  {
   "cell_type": "code",
   "execution_count": 22,
   "metadata": {},
   "outputs": [],
   "source": [
    "ReporteCoberturas = ReporteCoberturas.pivot_table(index=agrupacion_resultados, columns='estado',values='count',fill_value=0).reset_index().rename(columns=lambda x: re.sub(r'\\W+', '_', x.strip().lower()))"
   ]
  },
  {
   "cell_type": "code",
   "execution_count": 25,
   "metadata": {},
   "outputs": [],
   "source": [
    "ReporteCoberturas['total']= ReporteCoberturas[estados].sum(axis=1)"
   ]
  },
  {
   "cell_type": "code",
   "execution_count": 28,
   "metadata": {},
   "outputs": [],
   "source": [
    "ReporteCoberturas['finalizado_percent']= round((ReporteCoberturas['finalizado']/ReporteCoberturas['total'])*100,2)"
   ]
  },
  {
   "cell_type": "code",
   "execution_count": 30,
   "metadata": {},
   "outputs": [],
   "source": [
    "ReporteCoberturas = ReporteCoberturas.reset_index(drop=True)"
   ]
  },
  {
   "cell_type": "code",
   "execution_count": 31,
   "metadata": {},
   "outputs": [
    {
     "name": "stderr",
     "output_type": "stream",
     "text": [
      "C:\\Users\\aigna\\AppData\\Local\\Temp\\ipykernel_3848\\965849539.py:3: FutureWarning: save is not part of the public API, usage can give unexpected results and will be removed in a future version\n",
      "  writer.save()\n"
     ]
    }
   ],
   "source": [
    "writer = pd.ExcelWriter('Resultados/ReporteCoberturasEstudiantes.xlsx', engine='xlsxwriter')\n",
    "ReporteCoberturas.to_excel(writer, sheet_name='ReporteCoberturasEstudiantes', index=True)\n",
    "writer.save()"
   ]
  }
 ],
 "metadata": {
  "kernelspec": {
   "display_name": "default",
   "language": "python",
   "name": "python3"
  },
  "language_info": {
   "codemirror_mode": {
    "name": "ipython",
    "version": 3
   },
   "file_extension": ".py",
   "mimetype": "text/x-python",
   "name": "python",
   "nbconvert_exporter": "python",
   "pygments_lexer": "ipython3",
   "version": "3.9.12"
  },
  "orig_nbformat": 4
 },
 "nbformat": 4,
 "nbformat_minor": 2
}
