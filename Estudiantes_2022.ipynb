{
 "cells": [
  {
   "attachments": {},
   "cell_type": "markdown",
   "metadata": {},
   "source": [
    "# Evaluación Docente Institucional\n",
    "\n",
    "El siguiente código tiene como propósito exponer cómo se recopilan los datos de Evaluación Docente Institucional, su procesamiento a través de python, el cálculo de la participación, transformación de la __escala de percepción__ a la __escala de puntuación__, y el cálculo de los promedios alcanzados por pregunta y competencia."
   ]
  },
  {
   "attachments": {},
   "cell_type": "markdown",
   "metadata": {},
   "source": [
    "## Importación de las Librerías\n",
    "\n",
    "Se recomienda utilizar las siguientes librerías, sin embargo, no es la única forma de realizar este análisis."
   ]
  },
  {
   "cell_type": "code",
   "execution_count": 1,
   "metadata": {},
   "outputs": [],
   "source": [
    "# Importación de librerías\n",
    "\n",
    "import pandas as pd\n",
    "import numpy as np\n",
    "import re\n",
    "import xlsxwriter\n"
   ]
  },
  {
   "attachments": {},
   "cell_type": "markdown",
   "metadata": {},
   "source": [
    "## Importación de los Datos\n",
    "\n",
    "En primera instancia se deberán descargar los archivos disponibles en __Reportes Genéricos__, una plataforma habilitada por informática para el profesional a cargo, deberá descargar todas aquellas que contengan el nombre de estudiantes, se recomienda asignar un nombre diferenciado, debido a que estos se encuentran por Modalidad de formación."
   ]
  },
  {
   "cell_type": "code",
   "execution_count": 69,
   "metadata": {},
   "outputs": [],
   "source": [
    "ce1 = pd.read_excel(r'H:\\6.-Universidad Arturo Prat - Python\\Evaluación Docente 2022\\Estudiantes\\CE_1erSemestre.xlsx')\n",
    "ce2 = pd.read_excel(r'H:\\6.-Universidad Arturo Prat - Python\\Evaluación Docente 2022\\Estudiantes\\CE_2dorSemestre.xlsx')\n",
    "ptu1 = pd.read_excel(r'H:\\6.-Universidad Arturo Prat - Python\\Evaluación Docente 2022\\Estudiantes\\PTU_1erSemestre.xlsx')\n",
    "ptu2 = pd.read_excel(r'H:\\6.-Universidad Arturo Prat - Python\\Evaluación Docente 2022\\Estudiantes\\PTU_2doSemestre.xlsx')\n",
    "tns1 = pd.read_excel(r'H:\\6.-Universidad Arturo Prat - Python\\Evaluación Docente 2022\\Estudiantes\\TNS_1erSemestre.xlsx')\n",
    "tns2 = pd.read_excel(r'H:\\6.-Universidad Arturo Prat - Python\\Evaluación Docente 2022\\Estudiantes\\TNS_2doSemestre.xlsx')"
   ]
  },
  {
   "attachments": {},
   "cell_type": "markdown",
   "metadata": {},
   "source": [
    "para efectos de este análisis se uso la ruta absoluta del archivo, pero es recomendable utilizar la ruta relativa para futuros trabajos."
   ]
  },
  {
   "attachments": {},
   "cell_type": "markdown",
   "metadata": {},
   "source": [
    "## Construcción de Función que limpia los datos\n",
    "\n",
    "Se crea una función que permite tomar la base de datos en bruto y limpiar los nombres de columnas, titulos, espacios en blancos entre otros aspectos."
   ]
  },
  {
   "cell_type": "code",
   "execution_count": 70,
   "metadata": {},
   "outputs": [],
   "source": [
    "def clean_estudiantes(data):\n",
    "    data = data.iloc[7:]\n",
    "    data = data.iloc[:, 1:]\n",
    "    data = data.reset_index(drop=True)\n",
    "    data.columns = data.iloc[0]\n",
    "    data = data.iloc[1:]\n",
    "    data = data.rename(columns=lambda x: re.sub(r'\\W+', '_', x.strip().lower()))\n",
    "    return data"
   ]
  },
  {
   "attachments": {},
   "cell_type": "markdown",
   "metadata": {},
   "source": [
    "## Aplicación de la Función que limpia los datos\n",
    "\n",
    "Se aplica la función a las diferentes bases de datos. *Es importante señalar, que el conocimiento de python es muy inicial por ahora, por ende estas funciones pueden mejorar en el futuro."
   ]
  },
  {
   "cell_type": "code",
   "execution_count": 71,
   "metadata": {},
   "outputs": [],
   "source": [
    "ce1 = clean_estudiantes(ce1)\n",
    "ce2 = clean_estudiantes(ce2)\n",
    "ptu1 = clean_estudiantes(ptu1)\n",
    "ptu2 = clean_estudiantes(ptu2)\n",
    "tns1 = clean_estudiantes(tns1)\n",
    "tns2 = clean_estudiantes(tns2)"
   ]
  },
  {
   "attachments": {},
   "cell_type": "markdown",
   "metadata": {},
   "source": [
    "## Unión de Bases de datos"
   ]
  },
  {
   "cell_type": "code",
   "execution_count": 72,
   "metadata": {},
   "outputs": [],
   "source": [
    "Estudiantes2022 = pd.concat([ce1,ce2,ptu1,ptu2,tns1,tns2])"
   ]
  },
  {
   "attachments": {},
   "cell_type": "markdown",
   "metadata": {},
   "source": [
    "## Seleccionar columnas a eliminar\n",
    "\n",
    "Debido a las diferentes solicitudes las bases de datos pueden contener entre 1 o 2 columnas más que archivos más antiguos. en este caso se elecciona el sexo del estudiantes porque es irrelevante para este análisis, la edad del docente y el contrato del docente, si bien estos 2 últimos son de importancia para un análisis posterior, estos cambios se aplicaron despues. es recomendable solicitar una base de datos a informática que pueda cruzar los datos, ojalas solicitando identificar el año de nacimiento de la persona con el propósito de calcular la edad actual."
   ]
  },
  {
   "cell_type": "code",
   "execution_count": 73,
   "metadata": {},
   "outputs": [],
   "source": [
    "# Columnas a eliminar\n",
    "\n",
    "eliminar_columnas = ['sexo','edad_docente','contrato_docente']"
   ]
  },
  {
   "cell_type": "code",
   "execution_count": 74,
   "metadata": {},
   "outputs": [],
   "source": [
    "Estudiantes2022 = Estudiantes2022.drop(eliminar_columnas,axis=1)"
   ]
  },
  {
   "attachments": {},
   "cell_type": "markdown",
   "metadata": {},
   "source": [
    "## Proceso de Análisis de Participación y Resultados de Evaluación Docente\n",
    "\n",
    "En el siguiente apartado se generarán dos DataFrames distintos, el primero que medirá los __niveles de participación__ por los estudiantes, y el otro los __resultados por pregunta__. Luego se realizará una unión para poder analizar ambas cosas en un solo documento.\n",
    "\n",
    "Primero se debe crear objetos que permitan hacer las agrupaciones de manera más sencilla y entendible."
   ]
  },
  {
   "cell_type": "code",
   "execution_count": 75,
   "metadata": {},
   "outputs": [],
   "source": [
    "agrupacion_coberturas = ['proceso','semestre','sede','tipo_carrera','unidad_academica','codigo_carrera','nombre_carrera','codigo_actividad','nombre_actividad',\n",
    "                         'paralelo','tipo_asig','rut_docente','nombre_docente','apaterno_docente','amaterno_docente','estado']\n",
    "\n",
    "agrupacion_resultados = ['proceso','semestre','sede','tipo_carrera','unidad_academica','codigo_carrera','nombre_carrera','codigo_actividad','nombre_actividad',\n",
    "                         'paralelo','tipo_asig','rut_docente','nombre_docente','apaterno_docente','amaterno_docente']\n",
    "\n",
    "estados = ['finalizado','no_iniciada','pendiente']"
   ]
  },
  {
   "attachments": {},
   "cell_type": "markdown",
   "metadata": {},
   "source": [
    "## Participación\n",
    "\n",
    "El siguiente análisis busca realizar un conteo de los diferentes estados que puede tener la encuesta de __Evaluación Docente__, los cuales pueden ser:\n",
    "\n",
    "*finalizado* = Estudiantes participa de manera exitosa en la encuesta\n",
    "*No iniciada* = Estudiantes no inicia la encuesta, no la contesta, no abre el instrumento\n",
    "*Pendiente* = Estudiantes por algún motivo, abre el instrumento, pero no termina de contestarlo.\n",
    "\n",
    "Posterior al conteo de los diferentes estados, se realiza la sumatoria y calculo de la proporción de participación(finalizado)."
   ]
  },
  {
   "cell_type": "code",
   "execution_count": 76,
   "metadata": {},
   "outputs": [],
   "source": [
    "CoberturasEstudiantes2022 = Estudiantes2022.groupby(agrupacion_coberturas).size().reset_index(name='count')"
   ]
  },
  {
   "attachments": {},
   "cell_type": "markdown",
   "metadata": {},
   "source": [
    "para dejar los estados anteriores, como columnas independientes se debe *pivotear* la tabla de la siguiente manera:"
   ]
  },
  {
   "cell_type": "code",
   "execution_count": 77,
   "metadata": {},
   "outputs": [],
   "source": [
    "CoberturasEstudiantes2022 = CoberturasEstudiantes2022.pivot_table(index=agrupacion_resultados, columns='estado',values='count',fill_value=0).reset_index().rename(columns=lambda x: re.sub(r'\\W+', '_', x.strip().lower()))"
   ]
  },
  {
   "attachments": {},
   "cell_type": "markdown",
   "metadata": {},
   "source": [
    "Se generan nuevas columnas, para calcular el total de estudiantes por docente, y la proporcion alcanzada para el estado finalizado:"
   ]
  },
  {
   "cell_type": "code",
   "execution_count": 78,
   "metadata": {},
   "outputs": [],
   "source": [
    "#Total encuestas\n",
    "\n",
    "CoberturasEstudiantes2022['total'] = CoberturasEstudiantes2022[estados].sum(axis=1)"
   ]
  },
  {
   "cell_type": "code",
   "execution_count": 79,
   "metadata": {},
   "outputs": [],
   "source": [
    "CoberturasEstudiantes2022['finalizado_percent']= round((CoberturasEstudiantes2022['finalizado']/CoberturasEstudiantes2022['total'])*100,2)"
   ]
  },
  {
   "attachments": {},
   "cell_type": "markdown",
   "metadata": {},
   "source": [
    "## Resultados\n",
    "\n",
    "En el siguiente apartado se calcularán los resultados obtenidos en cada pregunta del instrumento, transformandolo de una *escala de percepción* a una *escala de puntuación* de la siguiente manera:\n",
    "\n",
    "*Siempre* ~ 3.0\n",
    "*Generalmente* ~ 2.0\n",
    "*Pocas veces* ~ 1.0\n",
    "*Nunca* ~ 0.0\n",
    "*--* ~ 0.0 = Indicador de no participación\n",
    "\n",
    "Primero que todo debemos agrupar las columnas que son de respuesta, generar un objeto que contenga la escala de transformación, y generar objetos que contengan los datos de respuesta por cada competencia, y las columnas que se excluirán en el análisis.\n"
   ]
  },
  {
   "cell_type": "code",
   "execution_count": 80,
   "metadata": {},
   "outputs": [],
   "source": [
    "# Se agrupan todas las columnas que contienen respuestas\n",
    "\n",
    "columnas_respuesta = [col for col in Estudiantes2022.columns if col.startswith('respuesta')]"
   ]
  },
  {
   "cell_type": "code",
   "execution_count": 81,
   "metadata": {},
   "outputs": [],
   "source": [
    "# Se genera la escala de transformación\n",
    "\n",
    "escala_puntuacion = {'Siempre': 3.0, 'Generalmente': 2.0, 'Pocas veces': 1.0, 'Nunca': 0.0, '--': 0.0}\n"
   ]
  },
  {
   "cell_type": "code",
   "execution_count": 82,
   "metadata": {},
   "outputs": [],
   "source": [
    "filtro_finalizado = Estudiantes2022['estado'] == \"Finalizado\""
   ]
  },
  {
   "cell_type": "code",
   "execution_count": 83,
   "metadata": {},
   "outputs": [],
   "source": [
    "# Se generan la agrupación para los datos relacionados con la competencia mediador\n",
    "respuestas_mediador = [col for col in Estudiantes2022.columns if col.startswith('respuesta_1_')]"
   ]
  },
  {
   "cell_type": "code",
   "execution_count": 84,
   "metadata": {},
   "outputs": [],
   "source": [
    "# Se genera la agrupación para los datos relacionados con la competencia gestión\n",
    "respuestas_gestion = [col for col in Estudiantes2022.columns if col.startswith('respuesta_2_')]"
   ]
  },
  {
   "cell_type": "code",
   "execution_count": 85,
   "metadata": {},
   "outputs": [],
   "source": [
    "columnas_excluidas = ['inicio_aplicacion', 'fin_aplicacion', 'estado', 'fecha_inicio', 'fecha_fin']"
   ]
  },
  {
   "attachments": {},
   "cell_type": "markdown",
   "metadata": {},
   "source": [
    "Se debe generar el nuevo dataframe que contenga los datos asociados a los resultados."
   ]
  },
  {
   "cell_type": "code",
   "execution_count": 87,
   "metadata": {},
   "outputs": [],
   "source": [
    "ResultadosEstudiantes2022 = Estudiantes2022[filtro_finalizado]"
   ]
  },
  {
   "cell_type": "code",
   "execution_count": null,
   "metadata": {},
   "outputs": [],
   "source": [
    "ResultadosEstudiantes2022[columnas_respuesta] = ResultadosEstudiantes2022[columnas_respuesta].replace(escala_puntuacion)"
   ]
  },
  {
   "cell_type": "code",
   "execution_count": 90,
   "metadata": {},
   "outputs": [],
   "source": [
    "ResultadosEstudiantes2022 = ResultadosEstudiantes2022.drop(columns=columnas_excluidas)"
   ]
  },
  {
   "cell_type": "code",
   "execution_count": 91,
   "metadata": {},
   "outputs": [],
   "source": [
    "ResultadosEstudiantes2022 = ResultadosEstudiantes2022.groupby(agrupacion_resultados).mean(columnas_respuesta).round(2).reset_index()"
   ]
  },
  {
   "attachments": {},
   "cell_type": "markdown",
   "metadata": {},
   "source": [
    "## Union de Bases de datos\n",
    "\n",
    "A continuación a traves de *merge* se unirán los objetos __CoberturasEstudiantes2022__ y __ResultadosEstudiantes2022__, de los cuales se creará un nuevo objeto que contenga ambos datos."
   ]
  },
  {
   "cell_type": "code",
   "execution_count": 92,
   "metadata": {},
   "outputs": [],
   "source": [
    "data = CoberturasEstudiantes2022.merge(\n",
    "    right = ResultadosEstudiantes2022,\n",
    "    how = \"outer\",\n",
    "    on = agrupacion_resultados\n",
    ")"
   ]
  },
  {
   "attachments": {},
   "cell_type": "markdown",
   "metadata": {},
   "source": [
    "## Cálculo de nuevas columnas\n",
    "\n",
    "Luego de unificar las bases de datos, se crearan nuevas variables como la puntuación promedio alcanzada por competencia:\n",
    "\n",
    "*Medidador* = el promedio de la sumatoria de los promedios alcanzados por pregunta, de la 1 a la 13\n",
    "*Gestión* = el promedio de la sumatoria de los promedios alcanzados por pregunta de la 14 a la 15\n"
   ]
  },
  {
   "cell_type": "code",
   "execution_count": 95,
   "metadata": {},
   "outputs": [],
   "source": [
    "data[columnas_respuesta]= data[columnas_respuesta].fillna(0)"
   ]
  },
  {
   "cell_type": "code",
   "execution_count": 97,
   "metadata": {},
   "outputs": [],
   "source": [
    "data['mediador'] = data[respuestas_mediador].mean(axis=1).round(2)"
   ]
  },
  {
   "cell_type": "code",
   "execution_count": 98,
   "metadata": {},
   "outputs": [],
   "source": [
    "data['gestion'] = data[respuestas_gestion].mean(axis=1).round(2)"
   ]
  },
  {
   "cell_type": "code",
   "execution_count": 99,
   "metadata": {},
   "outputs": [
    {
     "name": "stderr",
     "output_type": "stream",
     "text": [
      "C:\\Users\\aigna\\AppData\\Local\\Temp\\ipykernel_9996\\218577113.py:3: FutureWarning: save is not part of the public API, usage can give unexpected results and will be removed in a future version\n",
      "  writer.save()\n"
     ]
    }
   ],
   "source": [
    "writer = pd.ExcelWriter('estudiantes2022.xlsx', engine='xlsxwriter')\n",
    "data.to_excel(writer, sheet_name='estudiantes2022', index=True)\n",
    "writer.save()"
   ]
  }
 ],
 "metadata": {
  "kernelspec": {
   "display_name": "default",
   "language": "python",
   "name": "python3"
  },
  "language_info": {
   "codemirror_mode": {
    "name": "ipython",
    "version": 3
   },
   "file_extension": ".py",
   "mimetype": "text/x-python",
   "name": "python",
   "nbconvert_exporter": "python",
   "pygments_lexer": "ipython3",
   "version": "3.9.12"
  },
  "orig_nbformat": 4
 },
 "nbformat": 4,
 "nbformat_minor": 2
}
